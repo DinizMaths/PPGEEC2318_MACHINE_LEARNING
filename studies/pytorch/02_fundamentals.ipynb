{
 "cells": [
  {
   "cell_type": "code",
   "execution_count": 1,
   "metadata": {},
   "outputs": [],
   "source": [
    "import torch"
   ]
  },
  {
   "cell_type": "code",
   "execution_count": 2,
   "metadata": {},
   "outputs": [
    {
     "name": "stdout",
     "output_type": "stream",
     "text": [
      "Torch version: 2.5.0+cu124\n",
      "CUDA available: True\n",
      "CUDA version: 12.4\n"
     ]
    }
   ],
   "source": [
    "print(f\"Torch version: {torch.__version__}\")\n",
    "print(f\"CUDA available: {torch.cuda.is_available()}\")\n",
    "print(f\"CUDA version: {torch.version.cuda}\")"
   ]
  },
  {
   "cell_type": "markdown",
   "metadata": {},
   "source": [
    "# Tensors"
   ]
  },
  {
   "cell_type": "markdown",
   "metadata": {},
   "source": [
    "Tensor is a generalization of vectors and matrices and is easily understood as a multidimensional array."
   ]
  },
  {
   "cell_type": "markdown",
   "metadata": {},
   "source": [
    "### Scalar (0D Tensor)"
   ]
  },
  {
   "cell_type": "code",
   "execution_count": 3,
   "metadata": {},
   "outputs": [
    {
     "data": {
      "text/plain": [
       "tensor(3.1416)"
      ]
     },
     "execution_count": 3,
     "metadata": {},
     "output_type": "execute_result"
    }
   ],
   "source": [
    "scalar = torch.tensor(3.14159)\n",
    "\n",
    "scalar"
   ]
  },
  {
   "cell_type": "code",
   "execution_count": 4,
   "metadata": {},
   "outputs": [
    {
     "data": {
      "text/plain": [
       "0"
      ]
     },
     "execution_count": 4,
     "metadata": {},
     "output_type": "execute_result"
    }
   ],
   "source": [
    "scalar.ndim"
   ]
  },
  {
   "cell_type": "code",
   "execution_count": 5,
   "metadata": {},
   "outputs": [
    {
     "data": {
      "text/plain": [
       "3.141590118408203"
      ]
     },
     "execution_count": 5,
     "metadata": {},
     "output_type": "execute_result"
    }
   ],
   "source": [
    "scalar.item()"
   ]
  },
  {
   "cell_type": "markdown",
   "metadata": {},
   "source": [
    "### Vector (1D Tensor)"
   ]
  },
  {
   "cell_type": "code",
   "execution_count": 6,
   "metadata": {},
   "outputs": [
    {
     "data": {
      "text/plain": [
       "tensor([1, 2, 3, 4, 5])"
      ]
     },
     "execution_count": 6,
     "metadata": {},
     "output_type": "execute_result"
    }
   ],
   "source": [
    "vector = torch.tensor([1, 2, 3, 4, 5])\n",
    "\n",
    "vector"
   ]
  },
  {
   "cell_type": "code",
   "execution_count": 7,
   "metadata": {},
   "outputs": [
    {
     "data": {
      "text/plain": [
       "1"
      ]
     },
     "execution_count": 7,
     "metadata": {},
     "output_type": "execute_result"
    }
   ],
   "source": [
    "vector.ndim"
   ]
  },
  {
   "cell_type": "code",
   "execution_count": 8,
   "metadata": {},
   "outputs": [
    {
     "data": {
      "text/plain": [
       "torch.Size([5])"
      ]
     },
     "execution_count": 8,
     "metadata": {},
     "output_type": "execute_result"
    }
   ],
   "source": [
    "vector.shape"
   ]
  },
  {
   "cell_type": "markdown",
   "metadata": {},
   "source": [
    "### Matrix (2D Tensor)"
   ]
  },
  {
   "cell_type": "code",
   "execution_count": 9,
   "metadata": {},
   "outputs": [
    {
     "data": {
      "text/plain": [
       "tensor([[1, 2],\n",
       "        [4, 5],\n",
       "        [7, 8]])"
      ]
     },
     "execution_count": 9,
     "metadata": {},
     "output_type": "execute_result"
    }
   ],
   "source": [
    "matrix = torch.tensor([[1, 2], [4, 5], [7, 8]])\n",
    "\n",
    "matrix"
   ]
  },
  {
   "cell_type": "code",
   "execution_count": 10,
   "metadata": {},
   "outputs": [
    {
     "data": {
      "text/plain": [
       "2"
      ]
     },
     "execution_count": 10,
     "metadata": {},
     "output_type": "execute_result"
    }
   ],
   "source": [
    "matrix.ndim"
   ]
  },
  {
   "cell_type": "code",
   "execution_count": 11,
   "metadata": {},
   "outputs": [
    {
     "data": {
      "text/plain": [
       "torch.Size([3, 2])"
      ]
     },
     "execution_count": 11,
     "metadata": {},
     "output_type": "execute_result"
    }
   ],
   "source": [
    "matrix.shape"
   ]
  },
  {
   "cell_type": "markdown",
   "metadata": {},
   "source": [
    "### Tensor (3D or higher)"
   ]
  },
  {
   "cell_type": "code",
   "execution_count": 12,
   "metadata": {},
   "outputs": [
    {
     "data": {
      "text/plain": [
       "tensor([[[1, 2],\n",
       "         [3, 4]],\n",
       "\n",
       "        [[5, 6],\n",
       "         [7, 8]]])"
      ]
     },
     "execution_count": 12,
     "metadata": {},
     "output_type": "execute_result"
    }
   ],
   "source": [
    "tensor = torch.tensor([[[1, 2], [3, 4]], [[5, 6], [7, 8]]])\n",
    "\n",
    "tensor"
   ]
  },
  {
   "cell_type": "code",
   "execution_count": 13,
   "metadata": {},
   "outputs": [
    {
     "data": {
      "text/plain": [
       "3"
      ]
     },
     "execution_count": 13,
     "metadata": {},
     "output_type": "execute_result"
    }
   ],
   "source": [
    "tensor.ndim"
   ]
  },
  {
   "cell_type": "code",
   "execution_count": 14,
   "metadata": {},
   "outputs": [
    {
     "data": {
      "text/plain": [
       "torch.Size([2, 2, 2])"
      ]
     },
     "execution_count": 14,
     "metadata": {},
     "output_type": "execute_result"
    }
   ],
   "source": [
    "tensor.shape"
   ]
  },
  {
   "cell_type": "markdown",
   "metadata": {},
   "source": [
    "#### Random Tensors"
   ]
  },
  {
   "cell_type": "code",
   "execution_count": 15,
   "metadata": {},
   "outputs": [
    {
     "data": {
      "text/plain": [
       "tensor([[0.6128, 0.5262, 0.9460, 0.3918],\n",
       "        [0.4268, 0.3392, 0.7706, 0.8523],\n",
       "        [0.7983, 0.6527, 0.4114, 0.8266]])"
      ]
     },
     "execution_count": 15,
     "metadata": {},
     "output_type": "execute_result"
    }
   ],
   "source": [
    "random_tensor = torch.rand(3, 4)\n",
    "\n",
    "random_tensor"
   ]
  },
  {
   "cell_type": "code",
   "execution_count": 16,
   "metadata": {},
   "outputs": [
    {
     "data": {
      "text/plain": [
       "torch.Size([3, 4])"
      ]
     },
     "execution_count": 16,
     "metadata": {},
     "output_type": "execute_result"
    }
   ],
   "source": [
    "random_tensor.shape"
   ]
  },
  {
   "cell_type": "code",
   "execution_count": 17,
   "metadata": {},
   "outputs": [
    {
     "data": {
      "text/plain": [
       "tensor([[[0.3893, 0.4623],\n",
       "         [0.6839, 0.5665]],\n",
       "\n",
       "        [[0.1410, 0.6728],\n",
       "         [0.4812, 0.6518]]])"
      ]
     },
     "execution_count": 17,
     "metadata": {},
     "output_type": "execute_result"
    }
   ],
   "source": [
    "random_tensor = torch.rand(2, 2, 2)\n",
    "\n",
    "random_tensor"
   ]
  },
  {
   "cell_type": "code",
   "execution_count": 18,
   "metadata": {},
   "outputs": [
    {
     "data": {
      "text/plain": [
       "torch.Size([2, 2, 2])"
      ]
     },
     "execution_count": 18,
     "metadata": {},
     "output_type": "execute_result"
    }
   ],
   "source": [
    "random_tensor.shape"
   ]
  },
  {
   "cell_type": "code",
   "execution_count": 19,
   "metadata": {},
   "outputs": [
    {
     "data": {
      "text/plain": [
       "(torch.Size([3, 224, 224]), 3)"
      ]
     },
     "execution_count": 19,
     "metadata": {},
     "output_type": "execute_result"
    }
   ],
   "source": [
    "random_image_size_tensor = torch.rand(size=(3, 224, 224)) # 3 channels, 224x224 image\n",
    "\n",
    "random_image_size_tensor.shape, random_image_size_tensor.ndim"
   ]
  },
  {
   "cell_type": "markdown",
   "metadata": {},
   "source": [
    "#### Zeros and Ones Tensors"
   ]
  },
  {
   "cell_type": "code",
   "execution_count": 20,
   "metadata": {},
   "outputs": [
    {
     "data": {
      "text/plain": [
       "tensor([[0., 0., 0., 0.],\n",
       "        [0., 0., 0., 0.],\n",
       "        [0., 0., 0., 0.]])"
      ]
     },
     "execution_count": 20,
     "metadata": {},
     "output_type": "execute_result"
    }
   ],
   "source": [
    "zeros_tensor = torch.zeros(size=(3, 4))\n",
    "\n",
    "zeros_tensor"
   ]
  },
  {
   "cell_type": "code",
   "execution_count": 21,
   "metadata": {},
   "outputs": [
    {
     "data": {
      "text/plain": [
       "torch.float32"
      ]
     },
     "execution_count": 21,
     "metadata": {},
     "output_type": "execute_result"
    }
   ],
   "source": [
    "zeros_tensor.dtype"
   ]
  },
  {
   "cell_type": "code",
   "execution_count": 22,
   "metadata": {},
   "outputs": [
    {
     "data": {
      "text/plain": [
       "tensor([[1., 1., 1., 1.],\n",
       "        [1., 1., 1., 1.],\n",
       "        [1., 1., 1., 1.]])"
      ]
     },
     "execution_count": 22,
     "metadata": {},
     "output_type": "execute_result"
    }
   ],
   "source": [
    "ones_tensor = torch.ones(size=(3, 4))\n",
    "\n",
    "ones_tensor"
   ]
  },
  {
   "cell_type": "code",
   "execution_count": 23,
   "metadata": {},
   "outputs": [
    {
     "data": {
      "text/plain": [
       "torch.float32"
      ]
     },
     "execution_count": 23,
     "metadata": {},
     "output_type": "execute_result"
    }
   ],
   "source": [
    "ones_tensor.dtype"
   ]
  },
  {
   "cell_type": "markdown",
   "metadata": {},
   "source": [
    "#### Range of Tensors and Tensors-like"
   ]
  },
  {
   "cell_type": "code",
   "execution_count": 24,
   "metadata": {},
   "outputs": [
    {
     "data": {
      "text/plain": [
       "tensor([0, 2, 4, 6, 8])"
      ]
     },
     "execution_count": 24,
     "metadata": {},
     "output_type": "execute_result"
    }
   ],
   "source": [
    "five_numbers = torch.arange(start=0, end=10, step=2)\n",
    "\n",
    "five_numbers"
   ]
  },
  {
   "cell_type": "code",
   "execution_count": 25,
   "metadata": {},
   "outputs": [
    {
     "data": {
      "text/plain": [
       "tensor([0, 0, 0, 0, 0])"
      ]
     },
     "execution_count": 25,
     "metadata": {},
     "output_type": "execute_result"
    }
   ],
   "source": [
    "five_zeros = torch.zeros_like(five_numbers)\n",
    "\n",
    "five_zeros"
   ]
  },
  {
   "cell_type": "markdown",
   "metadata": {},
   "source": [
    "### Tensors Data Types"
   ]
  },
  {
   "cell_type": "code",
   "execution_count": 26,
   "metadata": {},
   "outputs": [
    {
     "data": {
      "text/plain": [
       "torch.int64"
      ]
     },
     "execution_count": 26,
     "metadata": {},
     "output_type": "execute_result"
    }
   ],
   "source": [
    "int_64_tensor = torch.tensor([1, 2, 3], dtype=None)\n",
    "\n",
    "int_64_tensor.dtype"
   ]
  },
  {
   "cell_type": "code",
   "execution_count": 27,
   "metadata": {},
   "outputs": [
    {
     "data": {
      "text/plain": [
       "torch.int8"
      ]
     },
     "execution_count": 27,
     "metadata": {},
     "output_type": "execute_result"
    }
   ],
   "source": [
    "int_8_tensor = torch.tensor([1, 2, 3], dtype=torch.int8)\n",
    "\n",
    "int_8_tensor.dtype"
   ]
  },
  {
   "cell_type": "code",
   "execution_count": 28,
   "metadata": {},
   "outputs": [
    {
     "data": {
      "text/plain": [
       "torch.float32"
      ]
     },
     "execution_count": 28,
     "metadata": {},
     "output_type": "execute_result"
    }
   ],
   "source": [
    "float_32_tensor = torch.tensor([1.0, 2.0, 3.0], dtype=None)\n",
    "\n",
    "float_32_tensor.dtype"
   ]
  },
  {
   "cell_type": "code",
   "execution_count": 29,
   "metadata": {},
   "outputs": [
    {
     "data": {
      "text/plain": [
       "torch.float16"
      ]
     },
     "execution_count": 29,
     "metadata": {},
     "output_type": "execute_result"
    }
   ],
   "source": [
    "float_16_tensor = torch.tensor([1.0, 2.0, 3.0], dtype=torch.float16)\n",
    "\n",
    "float_16_tensor.dtype"
   ]
  },
  {
   "cell_type": "code",
   "execution_count": 30,
   "metadata": {},
   "outputs": [
    {
     "data": {
      "text/plain": [
       "torch.float32"
      ]
     },
     "execution_count": 30,
     "metadata": {},
     "output_type": "execute_result"
    }
   ],
   "source": [
    "float_32_tensor = torch.tensor(\n",
    "    [1.0, 2.0, 3.0],\n",
    "    dtype=None,         # Float32\n",
    "    device=None,        # CPU\n",
    "    requires_grad=False # no gradient tracking\n",
    ")\n",
    "\n",
    "float_32_tensor.dtype"
   ]
  },
  {
   "cell_type": "code",
   "execution_count": 31,
   "metadata": {},
   "outputs": [
    {
     "data": {
      "text/plain": [
       "tensor([1, 2, 3])"
      ]
     },
     "execution_count": 31,
     "metadata": {},
     "output_type": "execute_result"
    }
   ],
   "source": [
    "int_64_tensor = float_32_tensor.to(dtype=torch.int64)\n",
    "\n",
    "int_64_tensor"
   ]
  },
  {
   "cell_type": "code",
   "execution_count": 32,
   "metadata": {},
   "outputs": [
    {
     "data": {
      "text/plain": [
       "(tensor([2., 4., 6.]), torch.float32)"
      ]
     },
     "execution_count": 32,
     "metadata": {},
     "output_type": "execute_result"
    }
   ],
   "source": [
    "result = float_32_tensor + int_64_tensor\n",
    "\n",
    "result, result.dtype"
   ]
  },
  {
   "cell_type": "markdown",
   "metadata": {},
   "source": [
    "### Getting Information from Tensors"
   ]
  },
  {
   "cell_type": "code",
   "execution_count": 33,
   "metadata": {},
   "outputs": [
    {
     "data": {
      "text/plain": [
       "tensor([[0.8309, 0.3000, 0.2769, 0.2634],\n",
       "        [0.9806, 0.6923, 0.1045, 0.3810],\n",
       "        [0.5922, 0.6483, 0.1228, 0.9988]])"
      ]
     },
     "execution_count": 33,
     "metadata": {},
     "output_type": "execute_result"
    }
   ],
   "source": [
    "some_tensor = torch.rand(3, 4)\n",
    "\n",
    "some_tensor"
   ]
  },
  {
   "cell_type": "code",
   "execution_count": 34,
   "metadata": {},
   "outputs": [
    {
     "data": {
      "text/plain": [
       "torch.float32"
      ]
     },
     "execution_count": 34,
     "metadata": {},
     "output_type": "execute_result"
    }
   ],
   "source": [
    "some_tensor.dtype"
   ]
  },
  {
   "cell_type": "code",
   "execution_count": 35,
   "metadata": {},
   "outputs": [
    {
     "data": {
      "text/plain": [
       "torch.Size([3, 4])"
      ]
     },
     "execution_count": 35,
     "metadata": {},
     "output_type": "execute_result"
    }
   ],
   "source": [
    "some_tensor.shape"
   ]
  },
  {
   "cell_type": "code",
   "execution_count": 36,
   "metadata": {},
   "outputs": [
    {
     "data": {
      "text/plain": [
       "device(type='cpu')"
      ]
     },
     "execution_count": 36,
     "metadata": {},
     "output_type": "execute_result"
    }
   ],
   "source": [
    "some_tensor.device"
   ]
  },
  {
   "cell_type": "markdown",
   "metadata": {},
   "source": [
    "### Tensor Operations"
   ]
  },
  {
   "cell_type": "code",
   "execution_count": 37,
   "metadata": {},
   "outputs": [
    {
     "data": {
      "text/plain": [
       "tensor([1, 2, 3])"
      ]
     },
     "execution_count": 37,
     "metadata": {},
     "output_type": "execute_result"
    }
   ],
   "source": [
    "tensor = torch.tensor([1, 2, 3])\n",
    "\n",
    "tensor"
   ]
  },
  {
   "cell_type": "code",
   "execution_count": 38,
   "metadata": {},
   "outputs": [
    {
     "data": {
      "text/plain": [
       "(tensor([11, 12, 13]), tensor([11, 12, 13]))"
      ]
     },
     "execution_count": 38,
     "metadata": {},
     "output_type": "execute_result"
    }
   ],
   "source": [
    "tensor + 10, torch.add(tensor, 10)"
   ]
  },
  {
   "cell_type": "code",
   "execution_count": 39,
   "metadata": {},
   "outputs": [
    {
     "data": {
      "text/plain": [
       "(tensor([10, 20, 30]), tensor([10, 20, 30]))"
      ]
     },
     "execution_count": 39,
     "metadata": {},
     "output_type": "execute_result"
    }
   ],
   "source": [
    "tensor * 10, torch.mul(tensor, 10)"
   ]
  },
  {
   "cell_type": "code",
   "execution_count": 40,
   "metadata": {},
   "outputs": [
    {
     "data": {
      "text/plain": [
       "(tensor([-9, -8, -7]), tensor([-9, -8, -7]))"
      ]
     },
     "execution_count": 40,
     "metadata": {},
     "output_type": "execute_result"
    }
   ],
   "source": [
    "tensor - 10, torch.sub(tensor, 10)"
   ]
  },
  {
   "cell_type": "code",
   "execution_count": 41,
   "metadata": {},
   "outputs": [
    {
     "data": {
      "text/plain": [
       "(tensor([0.1000, 0.2000, 0.3000]), tensor([0.1000, 0.2000, 0.3000]))"
      ]
     },
     "execution_count": 41,
     "metadata": {},
     "output_type": "execute_result"
    }
   ],
   "source": [
    "tensor / 10, torch.div(tensor, 10)"
   ]
  },
  {
   "cell_type": "code",
   "execution_count": 42,
   "metadata": {},
   "outputs": [
    {
     "name": "stdout",
     "output_type": "stream",
     "text": [
      "Addition: tensor([5, 7, 9])\n",
      "Subtraction: tensor([-3, -3, -3])\n",
      "Multiplication: tensor([ 4, 10, 18])\n",
      "Division: tensor([0.2500, 0.4000, 0.5000])\n"
     ]
    }
   ],
   "source": [
    "tensor1 = torch.tensor([1, 2, 3])\n",
    "tensor2 = torch.tensor([4, 5, 6])\n",
    "\n",
    "print(f\"Addition: {tensor1 + tensor2}\")\n",
    "print(f\"Subtraction: {tensor1 - tensor2}\")\n",
    "print(f\"Multiplication: {tensor1 * tensor2}\")\n",
    "print(f\"Division: {tensor1 / tensor2}\")"
   ]
  },
  {
   "cell_type": "code",
   "execution_count": 43,
   "metadata": {},
   "outputs": [
    {
     "data": {
      "text/plain": [
       "tensor(32)"
      ]
     },
     "execution_count": 43,
     "metadata": {},
     "output_type": "execute_result"
    }
   ],
   "source": [
    "torch.matmul(tensor1, tensor2)"
   ]
  },
  {
   "cell_type": "code",
   "execution_count": 44,
   "metadata": {},
   "outputs": [
    {
     "data": {
      "text/plain": [
       "tensor([[4],\n",
       "        [5],\n",
       "        [6]])"
      ]
     },
     "execution_count": 44,
     "metadata": {},
     "output_type": "execute_result"
    }
   ],
   "source": [
    "tensor3 = torch.tensor([[4], [5], [6]])\n",
    "\n",
    "tensor3"
   ]
  },
  {
   "cell_type": "code",
   "execution_count": 45,
   "metadata": {},
   "outputs": [
    {
     "data": {
      "text/plain": [
       "tensor([32])"
      ]
     },
     "execution_count": 45,
     "metadata": {},
     "output_type": "execute_result"
    }
   ],
   "source": [
    "torch.matmul(tensor1, tensor3)"
   ]
  },
  {
   "cell_type": "code",
   "execution_count": 46,
   "metadata": {},
   "outputs": [
    {
     "name": "stdout",
     "output_type": "stream",
     "text": [
      "CPU times: user 1.32 ms, sys: 918 μs, total: 2.24 ms\n",
      "Wall time: 1.62 ms\n"
     ]
    },
    {
     "data": {
      "text/plain": [
       "tensor(32)"
      ]
     },
     "execution_count": 46,
     "metadata": {},
     "output_type": "execute_result"
    }
   ],
   "source": [
    "%%time\n",
    "\n",
    "value = 0\n",
    "\n",
    "for i in range(len(tensor1)):\n",
    "    value += tensor1[i] * tensor2[i]\n",
    "\n",
    "value"
   ]
  },
  {
   "cell_type": "code",
   "execution_count": 47,
   "metadata": {},
   "outputs": [
    {
     "name": "stdout",
     "output_type": "stream",
     "text": [
      "CPU times: user 247 μs, sys: 171 μs, total: 418 μs\n",
      "Wall time: 324 μs\n"
     ]
    },
    {
     "data": {
      "text/plain": [
       "tensor(32)"
      ]
     },
     "execution_count": 47,
     "metadata": {},
     "output_type": "execute_result"
    }
   ],
   "source": [
    "%%time\n",
    "\n",
    "torch.dot(tensor1, tensor2)"
   ]
  },
  {
   "cell_type": "code",
   "execution_count": 48,
   "metadata": {},
   "outputs": [
    {
     "data": {
      "text/plain": [
       "tensor([[19, 22],\n",
       "        [43, 50]])"
      ]
     },
     "execution_count": 48,
     "metadata": {},
     "output_type": "execute_result"
    }
   ],
   "source": [
    "matrix1 = torch.tensor([[1, 2], [3, 4]])\n",
    "matrix2 = torch.tensor([[5, 6], [7, 8]])\n",
    "\n",
    "torch.matmul(matrix1, matrix2)"
   ]
  },
  {
   "cell_type": "code",
   "execution_count": 49,
   "metadata": {},
   "outputs": [
    {
     "data": {
      "text/plain": [
       "tensor([[19, 22],\n",
       "        [43, 50]])"
      ]
     },
     "execution_count": 49,
     "metadata": {},
     "output_type": "execute_result"
    }
   ],
   "source": [
    "torch.mm(matrix1, matrix2)"
   ]
  },
  {
   "cell_type": "code",
   "execution_count": 50,
   "metadata": {},
   "outputs": [
    {
     "data": {
      "text/plain": [
       "tensor([[19, 22],\n",
       "        [43, 50]])"
      ]
     },
     "execution_count": 50,
     "metadata": {},
     "output_type": "execute_result"
    }
   ],
   "source": [
    "matrix1 @ matrix2"
   ]
  },
  {
   "cell_type": "code",
   "execution_count": 51,
   "metadata": {},
   "outputs": [
    {
     "data": {
      "text/plain": [
       "tensor([[ 5, 12],\n",
       "        [21, 32]])"
      ]
     },
     "execution_count": 51,
     "metadata": {},
     "output_type": "execute_result"
    }
   ],
   "source": [
    "matrix1 * matrix2"
   ]
  },
  {
   "cell_type": "code",
   "execution_count": 52,
   "metadata": {},
   "outputs": [
    {
     "data": {
      "text/plain": [
       "tensor([[ 23,  29,  35],\n",
       "        [ 53,  67,  81],\n",
       "        [ 83, 105, 127]])"
      ]
     },
     "execution_count": 52,
     "metadata": {},
     "output_type": "execute_result"
    }
   ],
   "source": [
    "matrix1 = torch.tensor([[1, 2], [3, 4], [5, 6]])\n",
    "matrix2 = torch.tensor([[7, 8], [9, 10], [11, 12]])\n",
    "\n",
    "# torch.mm(matrix1, matrix2) -> Error because of shape mismatch (3x2 * 3x2)\n",
    "torch.mm(matrix1, matrix2.T)"
   ]
  },
  {
   "cell_type": "markdown",
   "metadata": {},
   "source": [
    "### Tensor Statistics"
   ]
  },
  {
   "cell_type": "code",
   "execution_count": 53,
   "metadata": {},
   "outputs": [
    {
     "data": {
      "text/plain": [
       "tensor([[[0.5987, 0.8626, 0.4945, 0.1179],\n",
       "         [0.1738, 0.8444, 0.8929, 0.2670],\n",
       "         [0.8834, 0.9407, 0.6459, 0.2209]],\n",
       "\n",
       "        [[0.7268, 0.5808, 0.5197, 0.0457],\n",
       "         [0.0327, 0.1077, 0.7308, 0.9787],\n",
       "         [0.7949, 0.3290, 0.7138, 0.0975]]])"
      ]
     },
     "execution_count": 53,
     "metadata": {},
     "output_type": "execute_result"
    }
   ],
   "source": [
    "tensor = torch.rand(2, 3, 4)\n",
    "\n",
    "tensor"
   ]
  },
  {
   "cell_type": "code",
   "execution_count": 54,
   "metadata": {},
   "outputs": [
    {
     "data": {
      "text/plain": [
       "torch.return_types.min(\n",
       "values=tensor([[0.5987, 0.5808, 0.4945, 0.0457],\n",
       "        [0.0327, 0.1077, 0.7308, 0.2670],\n",
       "        [0.7949, 0.3290, 0.6459, 0.0975]]),\n",
       "indices=tensor([[0, 1, 0, 1],\n",
       "        [1, 1, 1, 0],\n",
       "        [1, 1, 0, 1]]))"
      ]
     },
     "execution_count": 54,
     "metadata": {},
     "output_type": "execute_result"
    }
   ],
   "source": [
    "tensor.min(axis=0)"
   ]
  },
  {
   "cell_type": "code",
   "execution_count": 55,
   "metadata": {},
   "outputs": [
    {
     "data": {
      "text/plain": [
       "torch.return_types.min(\n",
       "values=tensor([[0.1738, 0.8444, 0.4945, 0.1179],\n",
       "        [0.0327, 0.1077, 0.5197, 0.0457]]),\n",
       "indices=tensor([[1, 1, 0, 0],\n",
       "        [1, 1, 0, 0]]))"
      ]
     },
     "execution_count": 55,
     "metadata": {},
     "output_type": "execute_result"
    }
   ],
   "source": [
    "tensor.min(axis=1)"
   ]
  },
  {
   "cell_type": "code",
   "execution_count": 56,
   "metadata": {},
   "outputs": [
    {
     "data": {
      "text/plain": [
       "torch.return_types.min(\n",
       "values=tensor([[0.1179, 0.1738, 0.2209],\n",
       "        [0.0457, 0.0327, 0.0975]]),\n",
       "indices=tensor([[3, 0, 3],\n",
       "        [3, 0, 3]]))"
      ]
     },
     "execution_count": 56,
     "metadata": {},
     "output_type": "execute_result"
    }
   ],
   "source": [
    "tensor.min(axis=2)"
   ]
  },
  {
   "cell_type": "code",
   "execution_count": 57,
   "metadata": {},
   "outputs": [
    {
     "data": {
      "text/plain": [
       "tensor(0.0327)"
      ]
     },
     "execution_count": 57,
     "metadata": {},
     "output_type": "execute_result"
    }
   ],
   "source": [
    "tensor.min()"
   ]
  },
  {
   "cell_type": "code",
   "execution_count": 58,
   "metadata": {},
   "outputs": [
    {
     "data": {
      "text/plain": [
       "tensor(16)"
      ]
     },
     "execution_count": 58,
     "metadata": {},
     "output_type": "execute_result"
    }
   ],
   "source": [
    "tensor.argmin()"
   ]
  },
  {
   "cell_type": "code",
   "execution_count": 59,
   "metadata": {},
   "outputs": [
    {
     "data": {
      "text/plain": [
       "tensor([[0, 1, 0, 1],\n",
       "        [1, 1, 1, 0],\n",
       "        [1, 1, 0, 1]])"
      ]
     },
     "execution_count": 59,
     "metadata": {},
     "output_type": "execute_result"
    }
   ],
   "source": [
    "tensor.argmin(axis=0)"
   ]
  },
  {
   "cell_type": "code",
   "execution_count": 60,
   "metadata": {},
   "outputs": [
    {
     "data": {
      "text/plain": [
       "tensor(0.9787)"
      ]
     },
     "execution_count": 60,
     "metadata": {},
     "output_type": "execute_result"
    }
   ],
   "source": [
    "tensor.max()"
   ]
  },
  {
   "cell_type": "code",
   "execution_count": 61,
   "metadata": {},
   "outputs": [
    {
     "data": {
      "text/plain": [
       "tensor(0.5250)"
      ]
     },
     "execution_count": 61,
     "metadata": {},
     "output_type": "execute_result"
    }
   ],
   "source": [
    "tensor.mean()"
   ]
  },
  {
   "cell_type": "code",
   "execution_count": 62,
   "metadata": {},
   "outputs": [
    {
     "data": {
      "text/plain": [
       "tensor(0.5808)"
      ]
     },
     "execution_count": 62,
     "metadata": {},
     "output_type": "execute_result"
    }
   ],
   "source": [
    "tensor.median()"
   ]
  },
  {
   "cell_type": "code",
   "execution_count": 63,
   "metadata": {},
   "outputs": [
    {
     "data": {
      "text/plain": [
       "tensor(0.3223)"
      ]
     },
     "execution_count": 63,
     "metadata": {},
     "output_type": "execute_result"
    }
   ],
   "source": [
    "tensor.std()"
   ]
  },
  {
   "cell_type": "markdown",
   "metadata": {},
   "source": [
    "### Reshaping, Viewing and Stacking Tensors"
   ]
  },
  {
   "cell_type": "code",
   "execution_count": 64,
   "metadata": {},
   "outputs": [
    {
     "data": {
      "text/plain": [
       "tensor([[[0.0491, 0.9688, 0.4255, 0.1101],\n",
       "         [0.2782, 0.2756, 0.8689, 0.9466],\n",
       "         [0.2183, 0.5321, 0.4887, 0.6533]],\n",
       "\n",
       "        [[0.0380, 0.9084, 0.1159, 0.1065],\n",
       "         [0.6938, 0.3122, 0.1099, 0.8285],\n",
       "         [0.4520, 0.7392, 0.8782, 0.4526]]])"
      ]
     },
     "execution_count": 64,
     "metadata": {},
     "output_type": "execute_result"
    }
   ],
   "source": [
    "tensor = torch.rand(2, 3, 4)\n",
    "\n",
    "tensor"
   ]
  },
  {
   "cell_type": "markdown",
   "metadata": {},
   "source": [
    "#### Reshaping"
   ]
  },
  {
   "cell_type": "code",
   "execution_count": 65,
   "metadata": {},
   "outputs": [
    {
     "data": {
      "text/plain": [
       "tensor([[0.0491, 0.9688, 0.4255, 0.1101, 0.2782, 0.2756, 0.8689, 0.9466, 0.2183,\n",
       "         0.5321, 0.4887, 0.6533],\n",
       "        [0.0380, 0.9084, 0.1159, 0.1065, 0.6938, 0.3122, 0.1099, 0.8285, 0.4520,\n",
       "         0.7392, 0.8782, 0.4526]])"
      ]
     },
     "execution_count": 65,
     "metadata": {},
     "output_type": "execute_result"
    }
   ],
   "source": [
    "tensor.reshape(2, tensor.shape[1] * tensor.shape[2])"
   ]
  },
  {
   "cell_type": "code",
   "execution_count": 66,
   "metadata": {},
   "outputs": [
    {
     "data": {
      "text/plain": [
       "tensor([[0.0491, 0.9688, 0.4255, 0.1101, 0.2782, 0.2756, 0.8689, 0.9466, 0.2183,\n",
       "         0.5321, 0.4887, 0.6533],\n",
       "        [0.0380, 0.9084, 0.1159, 0.1065, 0.6938, 0.3122, 0.1099, 0.8285, 0.4520,\n",
       "         0.7392, 0.8782, 0.4526]])"
      ]
     },
     "execution_count": 66,
     "metadata": {},
     "output_type": "execute_result"
    }
   ],
   "source": [
    "tensor.reshape(2, -1) # -1 means \"as many as needed\""
   ]
  },
  {
   "cell_type": "code",
   "execution_count": 67,
   "metadata": {},
   "outputs": [
    {
     "data": {
      "text/plain": [
       "tensor([0.0491, 0.9688, 0.4255, 0.1101, 0.2782, 0.2756, 0.8689, 0.9466, 0.2183,\n",
       "        0.5321, 0.4887, 0.6533, 0.0380, 0.9084, 0.1159, 0.1065, 0.6938, 0.3122,\n",
       "        0.1099, 0.8285, 0.4520, 0.7392, 0.8782, 0.4526])"
      ]
     },
     "execution_count": 67,
     "metadata": {},
     "output_type": "execute_result"
    }
   ],
   "source": [
    "tensor.reshape(-1) # equals to tensor.reshape(1, -1) or tensor.reshape(24)"
   ]
  },
  {
   "cell_type": "code",
   "execution_count": 68,
   "metadata": {},
   "outputs": [
    {
     "data": {
      "text/plain": [
       "tensor([0.0491, 0.9688, 0.4255, 0.1101, 0.2782, 0.2756, 0.8689, 0.9466, 0.2183,\n",
       "        0.5321, 0.4887, 0.6533, 0.0380, 0.9084, 0.1159, 0.1065, 0.6938, 0.3122,\n",
       "        0.1099, 0.8285, 0.4520, 0.7392, 0.8782, 0.4526])"
      ]
     },
     "execution_count": 68,
     "metadata": {},
     "output_type": "execute_result"
    }
   ],
   "source": [
    "tensor.flatten()"
   ]
  },
  {
   "cell_type": "markdown",
   "metadata": {},
   "source": [
    "#### Viewing (shares the same memory with the original tensor)"
   ]
  },
  {
   "cell_type": "code",
   "execution_count": 69,
   "metadata": {},
   "outputs": [
    {
     "data": {
      "text/plain": [
       "tensor([[[0.0491, 0.9688, 0.4255, 0.1101],\n",
       "         [0.2782, 0.2756, 0.8689, 0.9466],\n",
       "         [0.2183, 0.5321, 0.4887, 0.6533]],\n",
       "\n",
       "        [[0.0380, 0.9084, 0.1159, 0.1065],\n",
       "         [0.6938, 0.3122, 0.1099, 0.8285],\n",
       "         [0.4520, 0.7392, 0.8782, 0.4526]]])"
      ]
     },
     "execution_count": 69,
     "metadata": {},
     "output_type": "execute_result"
    }
   ],
   "source": [
    "tensor.view(2, 3, 4)"
   ]
  },
  {
   "cell_type": "code",
   "execution_count": 70,
   "metadata": {},
   "outputs": [
    {
     "data": {
      "text/plain": [
       "tensor([[[0.0491, 0.9688],\n",
       "         [0.4255, 0.1101],\n",
       "         [0.2782, 0.2756],\n",
       "         [0.8689, 0.9466],\n",
       "         [0.2183, 0.5321],\n",
       "         [0.4887, 0.6533]],\n",
       "\n",
       "        [[0.0380, 0.9084],\n",
       "         [0.1159, 0.1065],\n",
       "         [0.6938, 0.3122],\n",
       "         [0.1099, 0.8285],\n",
       "         [0.4520, 0.7392],\n",
       "         [0.8782, 0.4526]]])"
      ]
     },
     "execution_count": 70,
     "metadata": {},
     "output_type": "execute_result"
    }
   ],
   "source": [
    "tensor.view(2, 6, 2)"
   ]
  },
  {
   "cell_type": "code",
   "execution_count": 71,
   "metadata": {},
   "outputs": [
    {
     "data": {
      "text/plain": [
       "tensor([0.0491, 0.9688, 0.4255, 0.1101, 0.2782, 0.2756, 0.8689, 0.9466, 0.2183,\n",
       "        0.5321, 0.4887, 0.6533, 0.0380, 0.9084, 0.1159, 0.1065, 0.6938, 0.3122,\n",
       "        0.1099, 0.8285, 0.4520, 0.7392, 0.8782, 0.4526])"
      ]
     },
     "execution_count": 71,
     "metadata": {},
     "output_type": "execute_result"
    }
   ],
   "source": [
    "z = tensor.view(-1)\n",
    "\n",
    "z"
   ]
  },
  {
   "cell_type": "code",
   "execution_count": 72,
   "metadata": {},
   "outputs": [
    {
     "data": {
      "text/plain": [
       "tensor([[[ 0.0491,  0.9688,  0.4255, 20.0000],\n",
       "         [ 0.2782,  0.2756,  0.8689,  0.9466],\n",
       "         [ 0.2183,  0.5321,  0.4887,  0.6533]],\n",
       "\n",
       "        [[ 0.0380,  0.9084,  0.1159,  0.1065],\n",
       "         [ 0.6938,  0.3122,  0.1099,  0.8285],\n",
       "         [ 0.4520,  0.7392,  0.8782,  0.4526]]])"
      ]
     },
     "execution_count": 72,
     "metadata": {},
     "output_type": "execute_result"
    }
   ],
   "source": [
    "z[3] = 20\n",
    "\n",
    "tensor"
   ]
  },
  {
   "cell_type": "markdown",
   "metadata": {},
   "source": [
    "#### Stacking"
   ]
  },
  {
   "cell_type": "code",
   "execution_count": 73,
   "metadata": {},
   "outputs": [
    {
     "data": {
      "text/plain": [
       "tensor([[[0.8591, 0.0498, 0.5200, 0.3645],\n",
       "         [0.3387, 0.7145, 0.6657, 0.9681],\n",
       "         [0.4212, 0.4578, 0.6961, 0.2305]],\n",
       "\n",
       "        [[0.3803, 0.3300, 0.7514, 0.1075],\n",
       "         [0.2402, 0.3687, 0.9201, 0.2535],\n",
       "         [0.3069, 0.6148, 0.5931, 0.1955]]])"
      ]
     },
     "execution_count": 73,
     "metadata": {},
     "output_type": "execute_result"
    }
   ],
   "source": [
    "z = torch.rand(2, 3, 4)\n",
    "\n",
    "z"
   ]
  },
  {
   "cell_type": "code",
   "execution_count": 74,
   "metadata": {},
   "outputs": [
    {
     "data": {
      "text/plain": [
       "tensor([[[[0.8591, 0.0498, 0.5200, 0.3645],\n",
       "          [0.3387, 0.7145, 0.6657, 0.9681],\n",
       "          [0.4212, 0.4578, 0.6961, 0.2305]],\n",
       "\n",
       "         [[0.3803, 0.3300, 0.7514, 0.1075],\n",
       "          [0.2402, 0.3687, 0.9201, 0.2535],\n",
       "          [0.3069, 0.6148, 0.5931, 0.1955]]],\n",
       "\n",
       "\n",
       "        [[[0.8591, 0.0498, 0.5200, 0.3645],\n",
       "          [0.3387, 0.7145, 0.6657, 0.9681],\n",
       "          [0.4212, 0.4578, 0.6961, 0.2305]],\n",
       "\n",
       "         [[0.3803, 0.3300, 0.7514, 0.1075],\n",
       "          [0.2402, 0.3687, 0.9201, 0.2535],\n",
       "          [0.3069, 0.6148, 0.5931, 0.1955]]],\n",
       "\n",
       "\n",
       "        [[[0.8591, 0.0498, 0.5200, 0.3645],\n",
       "          [0.3387, 0.7145, 0.6657, 0.9681],\n",
       "          [0.4212, 0.4578, 0.6961, 0.2305]],\n",
       "\n",
       "         [[0.3803, 0.3300, 0.7514, 0.1075],\n",
       "          [0.2402, 0.3687, 0.9201, 0.2535],\n",
       "          [0.3069, 0.6148, 0.5931, 0.1955]]]])"
      ]
     },
     "execution_count": 74,
     "metadata": {},
     "output_type": "execute_result"
    }
   ],
   "source": [
    "torch.stack([z, z, z], dim=0)"
   ]
  },
  {
   "cell_type": "code",
   "execution_count": 75,
   "metadata": {},
   "outputs": [
    {
     "data": {
      "text/plain": [
       "tensor([[[[0.8591, 0.0498, 0.5200, 0.3645],\n",
       "          [0.3387, 0.7145, 0.6657, 0.9681],\n",
       "          [0.4212, 0.4578, 0.6961, 0.2305]],\n",
       "\n",
       "         [[0.8591, 0.0498, 0.5200, 0.3645],\n",
       "          [0.3387, 0.7145, 0.6657, 0.9681],\n",
       "          [0.4212, 0.4578, 0.6961, 0.2305]],\n",
       "\n",
       "         [[0.8591, 0.0498, 0.5200, 0.3645],\n",
       "          [0.3387, 0.7145, 0.6657, 0.9681],\n",
       "          [0.4212, 0.4578, 0.6961, 0.2305]]],\n",
       "\n",
       "\n",
       "        [[[0.3803, 0.3300, 0.7514, 0.1075],\n",
       "          [0.2402, 0.3687, 0.9201, 0.2535],\n",
       "          [0.3069, 0.6148, 0.5931, 0.1955]],\n",
       "\n",
       "         [[0.3803, 0.3300, 0.7514, 0.1075],\n",
       "          [0.2402, 0.3687, 0.9201, 0.2535],\n",
       "          [0.3069, 0.6148, 0.5931, 0.1955]],\n",
       "\n",
       "         [[0.3803, 0.3300, 0.7514, 0.1075],\n",
       "          [0.2402, 0.3687, 0.9201, 0.2535],\n",
       "          [0.3069, 0.6148, 0.5931, 0.1955]]]])"
      ]
     },
     "execution_count": 75,
     "metadata": {},
     "output_type": "execute_result"
    }
   ],
   "source": [
    "torch.stack([z, z, z], dim=1)"
   ]
  },
  {
   "cell_type": "code",
   "execution_count": 76,
   "metadata": {},
   "outputs": [
    {
     "data": {
      "text/plain": [
       "tensor([[[[0.8591, 0.0498, 0.5200, 0.3645],\n",
       "          [0.8591, 0.0498, 0.5200, 0.3645],\n",
       "          [0.8591, 0.0498, 0.5200, 0.3645]],\n",
       "\n",
       "         [[0.3387, 0.7145, 0.6657, 0.9681],\n",
       "          [0.3387, 0.7145, 0.6657, 0.9681],\n",
       "          [0.3387, 0.7145, 0.6657, 0.9681]],\n",
       "\n",
       "         [[0.4212, 0.4578, 0.6961, 0.2305],\n",
       "          [0.4212, 0.4578, 0.6961, 0.2305],\n",
       "          [0.4212, 0.4578, 0.6961, 0.2305]]],\n",
       "\n",
       "\n",
       "        [[[0.3803, 0.3300, 0.7514, 0.1075],\n",
       "          [0.3803, 0.3300, 0.7514, 0.1075],\n",
       "          [0.3803, 0.3300, 0.7514, 0.1075]],\n",
       "\n",
       "         [[0.2402, 0.3687, 0.9201, 0.2535],\n",
       "          [0.2402, 0.3687, 0.9201, 0.2535],\n",
       "          [0.2402, 0.3687, 0.9201, 0.2535]],\n",
       "\n",
       "         [[0.3069, 0.6148, 0.5931, 0.1955],\n",
       "          [0.3069, 0.6148, 0.5931, 0.1955],\n",
       "          [0.3069, 0.6148, 0.5931, 0.1955]]]])"
      ]
     },
     "execution_count": 76,
     "metadata": {},
     "output_type": "execute_result"
    }
   ],
   "source": [
    "torch.stack([z, z, z], dim=2)"
   ]
  },
  {
   "cell_type": "markdown",
   "metadata": {},
   "source": [
    "### Squeezing, Unsqueezing and Permuting Tensors"
   ]
  },
  {
   "cell_type": "code",
   "execution_count": 77,
   "metadata": {},
   "outputs": [
    {
     "data": {
      "text/plain": [
       "(tensor([[[[0.0163, 0.7965, 0.9034, 0.8381]],\n",
       " \n",
       "          [[0.5239, 0.6741, 0.7455, 0.2578]]]]),\n",
       " torch.Size([1, 2, 1, 4]))"
      ]
     },
     "execution_count": 77,
     "metadata": {},
     "output_type": "execute_result"
    }
   ],
   "source": [
    "tensor = torch.rand(1, 2, 1, 4)\n",
    "\n",
    "tensor, tensor.size()"
   ]
  },
  {
   "cell_type": "code",
   "execution_count": 78,
   "metadata": {},
   "outputs": [
    {
     "data": {
      "text/plain": [
       "(tensor([[0.0163, 0.7965, 0.9034, 0.8381],\n",
       "         [0.5239, 0.6741, 0.7455, 0.2578]]),\n",
       " torch.Size([2, 4]))"
      ]
     },
     "execution_count": 78,
     "metadata": {},
     "output_type": "execute_result"
    }
   ],
   "source": [
    "tensor_squeezed = tensor.squeeze()\n",
    "\n",
    "tensor_squeezed, tensor_squeezed.size()"
   ]
  },
  {
   "cell_type": "code",
   "execution_count": 79,
   "metadata": {},
   "outputs": [
    {
     "data": {
      "text/plain": [
       "(tensor([[[0.0163, 0.7965, 0.9034, 0.8381],\n",
       "          [0.5239, 0.6741, 0.7455, 0.2578]]]),\n",
       " torch.Size([1, 2, 4]))"
      ]
     },
     "execution_count": 79,
     "metadata": {},
     "output_type": "execute_result"
    }
   ],
   "source": [
    "tensor_unsqueezed = tensor_squeezed.unsqueeze(dim=0)\n",
    "\n",
    "tensor_unsqueezed, tensor_unsqueezed.size()"
   ]
  },
  {
   "cell_type": "code",
   "execution_count": 80,
   "metadata": {},
   "outputs": [
    {
     "data": {
      "text/plain": [
       "(tensor([[[[0.0163],\n",
       "           [0.5239]]],\n",
       " \n",
       " \n",
       "         [[[0.7965],\n",
       "           [0.6741]]],\n",
       " \n",
       " \n",
       "         [[[0.9034],\n",
       "           [0.7455]]],\n",
       " \n",
       " \n",
       "         [[[0.8381],\n",
       "           [0.2578]]]]),\n",
       " torch.Size([4, 1, 2, 1]))"
      ]
     },
     "execution_count": 80,
     "metadata": {},
     "output_type": "execute_result"
    }
   ],
   "source": [
    "tensor_permuted = tensor.permute(3, 2, 1, 0)\n",
    "\n",
    "tensor_permuted, tensor_permuted.size()"
   ]
  },
  {
   "cell_type": "markdown",
   "metadata": {},
   "source": [
    "# Accessing GPU"
   ]
  },
  {
   "cell_type": "code",
   "execution_count": 83,
   "metadata": {},
   "outputs": [
    {
     "data": {
      "text/plain": [
       "device(type='cuda')"
      ]
     },
     "execution_count": 83,
     "metadata": {},
     "output_type": "execute_result"
    }
   ],
   "source": [
    "device = torch.device(\"cuda\" if torch.cuda.is_available() else \"cpu\")\n",
    "\n",
    "device"
   ]
  },
  {
   "cell_type": "code",
   "execution_count": 84,
   "metadata": {},
   "outputs": [
    {
     "data": {
      "text/plain": [
       "1"
      ]
     },
     "execution_count": 84,
     "metadata": {},
     "output_type": "execute_result"
    }
   ],
   "source": [
    "torch.cuda.device_count()"
   ]
  },
  {
   "cell_type": "markdown",
   "metadata": {},
   "source": [
    "### Tensors on GPU"
   ]
  },
  {
   "cell_type": "code",
   "execution_count": 85,
   "metadata": {},
   "outputs": [],
   "source": [
    "device = torch.device(\"cuda\" if torch.cuda.is_available() else \"cpu\")"
   ]
  },
  {
   "cell_type": "code",
   "execution_count": 88,
   "metadata": {},
   "outputs": [
    {
     "data": {
      "text/plain": [
       "(tensor([[[0.1494, 0.7690, 0.1172, 0.7635],\n",
       "          [0.2955, 0.4097, 0.8834, 0.3206],\n",
       "          [0.7493, 0.5578, 0.0284, 0.8193]],\n",
       " \n",
       "         [[0.4184, 0.4067, 0.8328, 0.9479],\n",
       "          [0.9101, 0.8949, 0.8810, 0.0487],\n",
       "          [0.3367, 0.2850, 0.2839, 0.1624]]]),\n",
       " device(type='cpu'))"
      ]
     },
     "execution_count": 88,
     "metadata": {},
     "output_type": "execute_result"
    }
   ],
   "source": [
    "tensor1 = torch.rand(2, 3, 4)\n",
    "\n",
    "tensor1, tensor1.device"
   ]
  },
  {
   "cell_type": "code",
   "execution_count": 89,
   "metadata": {},
   "outputs": [
    {
     "data": {
      "text/plain": [
       "(tensor([[[0.1494, 0.7690, 0.1172, 0.7635],\n",
       "          [0.2955, 0.4097, 0.8834, 0.3206],\n",
       "          [0.7493, 0.5578, 0.0284, 0.8193]],\n",
       " \n",
       "         [[0.4184, 0.4067, 0.8328, 0.9479],\n",
       "          [0.9101, 0.8949, 0.8810, 0.0487],\n",
       "          [0.3367, 0.2850, 0.2839, 0.1624]]], device='cuda:0'),\n",
       " device(type='cuda', index=0))"
      ]
     },
     "execution_count": 89,
     "metadata": {},
     "output_type": "execute_result"
    }
   ],
   "source": [
    "tensor1_on_gpu = tensor1.to(device)\n",
    "\n",
    "tensor1_on_gpu, tensor1_on_gpu.device"
   ]
  },
  {
   "cell_type": "code",
   "execution_count": 90,
   "metadata": {},
   "outputs": [
    {
     "data": {
      "text/plain": [
       "(tensor([[[0.9557, 0.0832, 0.5995, 0.4378],\n",
       "          [0.1710, 0.5705, 0.6380, 0.7600],\n",
       "          [0.2245, 0.5000, 0.1620, 0.0832]],\n",
       " \n",
       "         [[0.6957, 0.3643, 0.3662, 0.7514],\n",
       "          [0.6955, 0.7723, 0.9337, 0.9145],\n",
       "          [0.1370, 0.2875, 0.2137, 0.6269]]]),\n",
       " device(type='cpu'))"
      ]
     },
     "execution_count": 90,
     "metadata": {},
     "output_type": "execute_result"
    }
   ],
   "source": [
    "tensor2 = torch.rand(2, 3, 4)\n",
    "\n",
    "tensor2, tensor2.device"
   ]
  },
  {
   "cell_type": "code",
   "execution_count": 92,
   "metadata": {},
   "outputs": [
    {
     "data": {
      "text/plain": [
       "tensor([[[1.1051, 0.8522, 0.7168, 1.2012],\n",
       "         [0.4664, 0.9802, 1.5214, 1.0806],\n",
       "         [0.9738, 1.0578, 0.1903, 0.9025]],\n",
       "\n",
       "        [[1.1141, 0.7711, 1.1990, 1.6993],\n",
       "         [1.6056, 1.6672, 1.8146, 0.9632],\n",
       "         [0.4737, 0.5725, 0.4976, 0.7893]]], device='cuda:0')"
      ]
     },
     "execution_count": 92,
     "metadata": {},
     "output_type": "execute_result"
    }
   ],
   "source": [
    "# tensor1_on_gpu + tensor2 -> Error because of different devices\n",
    "tensor2_on_gpu = tensor2.to(device)\n",
    "\n",
    "tensor1_on_gpu + tensor2_on_gpu"
   ]
  },
  {
   "cell_type": "code",
   "execution_count": null,
   "metadata": {},
   "outputs": [],
   "source": []
  }
 ],
 "metadata": {
  "kernelspec": {
   "display_name": ".venv",
   "language": "python",
   "name": "python3"
  },
  "language_info": {
   "codemirror_mode": {
    "name": "ipython",
    "version": 3
   },
   "file_extension": ".py",
   "mimetype": "text/x-python",
   "name": "python",
   "nbconvert_exporter": "python",
   "pygments_lexer": "ipython3",
   "version": "3.10.12"
  }
 },
 "nbformat": 4,
 "nbformat_minor": 2
}
